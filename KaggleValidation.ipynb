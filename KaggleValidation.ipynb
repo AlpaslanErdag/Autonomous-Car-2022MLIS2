{
 "cells": [
  {
   "cell_type": "code",
   "execution_count": 11,
   "metadata": {},
   "outputs": [
    {
     "name": "stdout",
     "output_type": "stream",
     "text": [
      "fatal: Too many arguments.\n",
      "\n",
      "usage: git clone [<options>] [--] <repo> [<dir>]\n",
      "\n",
      "    -v, --verbose         be more verbose\n",
      "    -q, --quiet           be more quiet\n",
      "    --progress            force progress reporting\n",
      "    --reject-shallow      don't clone shallow repository\n",
      "    -n, --no-checkout     don't create a checkout\n",
      "    --bare                create a bare repository\n",
      "    --mirror              create a mirror repository (implies bare)\n",
      "    -l, --local           to clone from a local repository\n",
      "    --no-hardlinks        don't use local hardlinks, always copy\n",
      "    -s, --shared          setup as shared repository\n",
      "    --recurse-submodules[=<pathspec>]\n",
      "                          initialize submodules in the clone\n",
      "    --recursive ...       alias of --recurse-submodules\n",
      "    -j, --jobs <n>        number of submodules cloned in parallel\n",
      "    --template <template-directory>\n",
      "                          directory from which templates will be used\n",
      "    --reference <repo>    reference repository\n",
      "    --reference-if-able <repo>\n",
      "                          reference repository\n",
      "    --dissociate          use --reference only while cloning\n",
      "    -o, --origin <name>   use <name> instead of 'origin' to track upstream\n",
      "    -b, --branch <branch>\n",
      "                          checkout <branch> instead of the remote's HEAD\n",
      "    -u, --upload-pack <path>\n",
      "                          path to git-upload-pack on the remote\n",
      "    --depth <depth>       create a shallow clone of that depth\n",
      "    --shallow-since <time>\n",
      "                          create a shallow clone since a specific time\n",
      "    --shallow-exclude <revision>\n",
      "                          deepen history of shallow clone, excluding rev\n",
      "    --single-branch       clone only one branch, HEAD or --branch\n",
      "    --no-tags             don't clone any tags, and make later fetches not to follow them\n",
      "    --shallow-submodules  any cloned submodules will be shallow\n",
      "    --separate-git-dir <gitdir>\n",
      "                          separate git dir from working tree\n",
      "    -c, --config <key=value>\n",
      "                          set config inside the new repository\n",
      "    --server-option <server-specific>\n",
      "                          option to transmit\n",
      "    -4, --ipv4            use IPv4 addresses only\n",
      "    -6, --ipv6            use IPv6 addresses only\n",
      "    --filter <args>       object filtering\n",
      "    --remote-submodules   any cloned submodules will use their remote-tracking branch\n",
      "    --sparse              initialize sparse-checkout file to include only files at root\n",
      "\n"
     ]
    }
   ],
   "source": [
    "!git clone -q https: // github.com/AlpaslanErdag/cardata\n",
    "import random\n",
    "from keras.layers import Convolution2D, MaxPooling2D, Dropout, Flatten, Dense, Conv2D\n",
    "import glob\n",
    "import pandas as pd\n",
    "import cv2\n",
    "from imgaug import augmenters as iaa\n",
    "from sklearn.model_selection import train_test_split\n",
    "from sklearn.utils import shuffle\n",
    "from keras.models import load_model\n",
    "from sklearn.metrics import mean_squared_error, r2_score\n",
    "from tensorflow.keras.optimizers import Adam  # - Works\n",
    "from keras.models import Sequential\n",
    "import keras\n",
    "import matplotlib.image as mpimg\n",
    "import matplotlib.pyplot as plt\n",
    "import numpy as np\n",
    "import os\n",
    "import imutils"
   ]
  },
  {
   "cell_type": "code",
   "execution_count": 12,
   "metadata": {},
   "outputs": [],
   "source": [
    "colums = ['image_id', 'angle', 'speed']\n",
    "datadir = 'cardata'\n",
    "data = pd.read_csv(os.path.join(datadir, 'Test.csv'))\n",
    "data.head()\n",
    "\n",
    "modelSpeed = load_model(\"models/speed_model_0.04521.h5\")\n",
    "modelAngle = load_model(\"models/angle_model_0.01190.h5\")\n",
    "\n",
    "def load_test_img(datadir, df):\n",
    "  test_path = []\n",
    "  \n",
    "  for i in range(len(data)):\n",
    "    indexed_data = data.iloc[i]\n",
    "    image_id = indexed_data[0]\n",
    "    test_path.append(os.path.join(datadir,image_id))\n",
    "    test_paths = np.asarray(test_path)\n",
    " \n",
    "  return test_paths\n",
    "\n",
    "test_paths= load_test_img(datadir + '/test_data/test_data', data)"
   ]
  },
  {
   "cell_type": "code",
   "execution_count": 13,
   "metadata": {},
   "outputs": [],
   "source": [
    "def angle_preprocess(img):\n",
    "    #img = img[50:,:,:]\n",
    "    img = img[int(img.shape[0] / 4):, :, :]\n",
    "    img = cv2.cvtColor(img, cv2.COLOR_RGB2YUV)\n",
    "    img = cv2.GaussianBlur(img, (3, 3), 0)\n",
    "    #img = cv2.resize(img, (200, 66))\n",
    "    img = (img * 255).astype(np.uint8)\n",
    "    img = cv2.Canny(img, 100, 200)\n",
    "    img = cv2.merge((img, img, img))\n",
    "    img = cv2.resize(img, (200, 66))\n",
    "    #img = img / 255.0\n",
    "    #img = np.true_divide(image, 255, dtype=np.float32,casting=\"unsafe\")\n",
    "    return img\n",
    "\n",
    "\n",
    "def speed_preprocess(image):\n",
    "    image = cv2.cvtColor(image, cv2.COLOR_RGB2YUV)\n",
    "    image = cv2.resize(image, (200, 66))\n",
    "    # hsv = cv2.cvtColor(image, cv2.COLOR_BGR2HSV)\n",
    "    # lower = np.array([0, 164, 0])\n",
    "    # upper = np.array([179, 255, 255])\n",
    "    # mask = cv2.inRange(hsv, lower, upper)\n",
    "    # image = cv2.bitwise_and(image, image, mask = mask)\n",
    "    #image = image[int(image.shape[0] / 4):, :, :]\n",
    "    return image\n",
    "\n",
    "def batch_generator(test_paths,NumberOfTestData):\n",
    "\n",
    "  while True:\n",
    "    speed_img = []\n",
    "    angle_img = []\n",
    "    \n",
    "    for i in range(NumberOfTestData):\n",
    "      im = mpimg.imread(test_paths[i])\n",
    "      speed_im = speed_preprocess(im)\n",
    "      speed_img.append(speed_im)\n",
    "\n",
    "      angle_im = angle_preprocess(im)\n",
    "      angle_img.append(angle_im)\n",
    "          \n",
    "    yield (np.asarray(angle_img), np.asarray(speed_img))"
   ]
  },
  {
   "cell_type": "code",
   "execution_count": 14,
   "metadata": {},
   "outputs": [
    {
     "name": "stderr",
     "output_type": "stream",
     "text": [
      "2022-04-27 12:48:48.507810: I tensorflow/core/grappler/optimizers/custom_graph_optimizer_registry.cc:112] Plugin optimizer for device_type GPU is enabled.\n",
      "2022-04-27 12:48:49.510418: I tensorflow/core/grappler/optimizers/custom_graph_optimizer_registry.cc:112] Plugin optimizer for device_type GPU is enabled.\n"
     ]
    }
   ],
   "source": [
    "X_test_angle, X_test_speed = next(batch_generator(test_paths,1020))\n",
    "speedPred = modelSpeed.predict(X_test_speed)\n",
    "anglePred = modelAngle.predict(X_test_angle)"
   ]
  },
  {
   "cell_type": "code",
   "execution_count": 30,
   "metadata": {},
   "outputs": [],
   "source": [
    "speedPred = np.around(speedPred)\n",
    "sp = pd.DataFrame(speedPred, index=range(1, 1021))\n",
    "ap = pd.DataFrame(anglePred, index=range(1, 1021))\n",
    "df = pd.concat([ap, sp], axis=1)\n",
    "df.columns = [\"angle\", \"speed\"]\n",
    "df.to_csv(\"predictions/prediction2704_2.csv\")"
   ]
  }
 ],
 "metadata": {
  "interpreter": {
   "hash": "dbf4ff8a4851cdef5ad310b0693d3c5f1975d91208526f0ee562ffca9cac19bd"
  },
  "kernelspec": {
   "display_name": "Python 3.9.7 ('tf')",
   "language": "python",
   "name": "python3"
  },
  "language_info": {
   "codemirror_mode": {
    "name": "ipython",
    "version": 3
   },
   "file_extension": ".py",
   "mimetype": "text/x-python",
   "name": "python",
   "nbconvert_exporter": "python",
   "pygments_lexer": "ipython3",
   "version": "3.9.7"
  },
  "orig_nbformat": 4
 },
 "nbformat": 4,
 "nbformat_minor": 2
}
