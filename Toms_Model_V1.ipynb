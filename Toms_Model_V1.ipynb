{
 "cells": [
  {
   "cell_type": "code",
   "execution_count": 117,
   "metadata": {},
   "outputs": [
    {
     "name": "stdout",
     "output_type": "stream",
     "text": [
      "fatal: Too many arguments.\n",
      "\n",
      "usage: git clone [<options>] [--] <repo> [<dir>]\n",
      "\n",
      "    -v, --verbose         be more verbose\n",
      "    -q, --quiet           be more quiet\n",
      "    --progress            force progress reporting\n",
      "    --reject-shallow      don't clone shallow repository\n",
      "    -n, --no-checkout     don't create a checkout\n",
      "    --bare                create a bare repository\n",
      "    --mirror              create a mirror repository (implies bare)\n",
      "    -l, --local           to clone from a local repository\n",
      "    --no-hardlinks        don't use local hardlinks, always copy\n",
      "    -s, --shared          setup as shared repository\n",
      "    --recurse-submodules[=<pathspec>]\n",
      "                          initialize submodules in the clone\n",
      "    --recursive ...       alias of --recurse-submodules\n",
      "    -j, --jobs <n>        number of submodules cloned in parallel\n",
      "    --template <template-directory>\n",
      "                          directory from which templates will be used\n",
      "    --reference <repo>    reference repository\n",
      "    --reference-if-able <repo>\n",
      "                          reference repository\n",
      "    --dissociate          use --reference only while cloning\n",
      "    -o, --origin <name>   use <name> instead of 'origin' to track upstream\n",
      "    -b, --branch <branch>\n",
      "                          checkout <branch> instead of the remote's HEAD\n",
      "    -u, --upload-pack <path>\n",
      "                          path to git-upload-pack on the remote\n",
      "    --depth <depth>       create a shallow clone of that depth\n",
      "    --shallow-since <time>\n",
      "                          create a shallow clone since a specific time\n",
      "    --shallow-exclude <revision>\n",
      "                          deepen history of shallow clone, excluding rev\n",
      "    --single-branch       clone only one branch, HEAD or --branch\n",
      "    --no-tags             don't clone any tags, and make later fetches not to follow them\n",
      "    --shallow-submodules  any cloned submodules will be shallow\n",
      "    --separate-git-dir <gitdir>\n",
      "                          separate git dir from working tree\n",
      "    -c, --config <key=value>\n",
      "                          set config inside the new repository\n",
      "    --server-option <server-specific>\n",
      "                          option to transmit\n",
      "    -4, --ipv4            use IPv4 addresses only\n",
      "    -6, --ipv6            use IPv6 addresses only\n",
      "    --filter <args>       object filtering\n",
      "    --remote-submodules   any cloned submodules will use their remote-tracking branch\n",
      "    --sparse              initialize sparse-checkout file to include only files at root\n",
      "\n"
     ]
    }
   ],
   "source": [
    "# INIT\n",
    "!git clone -q https: // github.com/AlpaslanErdag/cardata\n",
    "import random\n",
    "from keras.layers import Convolution2D, MaxPooling2D, Dropout, Flatten, Dense, Conv2D\n",
    "import glob\n",
    "import pandas as pd\n",
    "import cv2\n",
    "from imgaug import augmenters as iaa\n",
    "from sklearn.model_selection import train_test_split\n",
    "from sklearn.utils import shuffle\n",
    "from tensorflow.keras.optimizers import Adam, SGD  # - Works\n",
    "from keras.models import Sequential\n",
    "import keras\n",
    "import matplotlib.image as mpimg\n",
    "import matplotlib.pyplot as plt\n",
    "import numpy as np\n",
    "import os\n",
    "import imutils\n",
    "\n"
   ]
  },
  {
   "cell_type": "code",
   "execution_count": 63,
   "metadata": {},
   "outputs": [],
   "source": [
    "# FUNCTIONS\n",
    "def load_img_steering(datadir, df):\n",
    "    image_path = []\n",
    "    angle = []\n",
    "    for i in range(len(data)):\n",
    "        indexed_data = data.iloc[i]\n",
    "        image_id = indexed_data[0]\n",
    "        image_path.append(os.path.join(datadir, image_id))\n",
    "        angle.append(float(indexed_data[1]))\n",
    "    image_paths = np.asarray(image_path)\n",
    "    angles = np.asarray(angle)\n",
    "    image_ids = np.asarray(image_id)\n",
    "    return image_paths, angles\n",
    "\n",
    "\n",
    "def load_speed_img(datadir, df):\n",
    "    image_path1 = []\n",
    "    speed1 = []\n",
    "    for i in range(len(data)):\n",
    "        indexed_data = data.iloc[i]\n",
    "        image_id = indexed_data[0]\n",
    "        image_path1.append(os.path.join(datadir, image_id))\n",
    "        speed1.append((indexed_data[2]))\n",
    "    image_paths1 = np.asarray(image_path1)\n",
    "    speeds1 = np.asarray(speed1)\n",
    "    return image_paths1, speeds1\n",
    "\n",
    "\n",
    "def load_test_img(datadir, df):\n",
    "    test_path = []\n",
    "\n",
    "    for i in range(len(data)):\n",
    "        indexed_data = data.iloc[i]\n",
    "        image_id = indexed_data[0]\n",
    "        test_path.append(os.path.join(datadir, image_id))\n",
    "        test_paths = np.asarray(test_path)\n",
    "\n",
    "    return test_paths\n",
    "\n",
    "\n",
    "def zoom(image):\n",
    "    zoom = iaa.Affine(scale=(1, 1.3))\n",
    "    image = zoom.augment_image(image)\n",
    "    return image\n",
    "\n",
    "\n",
    "def pan(image):\n",
    "    pan = iaa.Affine(translate_percent={\"x\": (-0.1, 0.1), \"y\": (-0.1, 0.1)})\n",
    "    image = pan.augment_image(image)\n",
    "    return image\n",
    "\n",
    "\n",
    "def img_random_brightness(image):\n",
    "    brightness = iaa.Multiply((0.4, 1.2))\n",
    "    image = brightness.augment_image(image)\n",
    "    return image\n",
    "\n",
    "\n",
    "def img_random_flip(image, angle):\n",
    "    image = cv2.flip(image, 1)\n",
    "    angle = 1 - angle\n",
    "    return image, angle\n",
    "\n",
    "\n",
    "def blur(image):\n",
    "    kernel_size = random.randint(\n",
    "        1, 5)  # kernel larger than 5 would make the image way too blurry\n",
    "    image = cv2.blur(image, (kernel_size, kernel_size))\n",
    "\n",
    "    return image\n",
    "\n",
    "\n",
    "def random_augment(image, steering_angle):\n",
    "    image = mpimg.imread(image)\n",
    "    if np.random.rand() < 0.5:\n",
    "        image = pan(image)\n",
    "    if np.random.rand() < 0.5:\n",
    "        image = zoom(image)\n",
    "    if np.random.rand() < 0.5:\n",
    "        image = blur(image)\n",
    "    if np.random.rand() < 0.5:\n",
    "        image = img_random_brightness(image)\n",
    "    if np.random.rand() < 0.5:\n",
    "        image, steering_angle = img_random_flip(image, steering_angle)\n",
    "\n",
    "    return image, steering_angle\n",
    "\n",
    "\n",
    "def angle_preprocess(img):\n",
    "    #img = img[50:,:,:]\n",
    "    img = img[int(img.shape[0] / 2):, :, :]\n",
    "    img = cv2.cvtColor(img, cv2.COLOR_RGB2YUV)\n",
    "    img = cv2.GaussianBlur(img, (3, 3), 0)\n",
    "    #img = cv2.resize(img, (200, 66))\n",
    "    img = (img * 255).astype(np.uint8)\n",
    "    img = cv2.Canny(img, 100, 200)\n",
    "    img = cv2.merge((img, img, img))\n",
    "    img = cv2.resize(img, (200, 66))\n",
    "    #img = img / 255.0\n",
    "    #img = np.true_divide(image, 255, dtype=np.float32,casting=\"unsafe\")\n",
    "    return img\n",
    "\n",
    "\n",
    "def speed_preprocess(image):\n",
    "    image = cv2.cvtColor(image, cv2.COLOR_RGB2YUV)\n",
    "    image = cv2.resize(image, (200, 66))\n",
    "    # hsv = cv2.cvtColor(image, cv2.COLOR_BGR2HSV)\n",
    "    # lower = np.array([0, 164, 0])\n",
    "    # upper = np.array([179, 255, 255])\n",
    "    # mask = cv2.inRange(hsv, lower, upper)\n",
    "    # image = cv2.bitwise_and(image, image, mask = mask)\n",
    "    #image = image[int(image.shape[0] / 4):, :, :]\n",
    "    return image\n",
    "\n",
    "\n",
    "def angle_batch_generator(image_paths, steering_ang, batch_size, istraining):\n",
    "\n",
    "    while True:\n",
    "        batch_img = []\n",
    "        batch_steering = []\n",
    "\n",
    "        for i in range(batch_size):\n",
    "            random_index = random.randint(\n",
    "                0,\n",
    "                len(image_paths) - 1\n",
    "            )  # Picks random image in the dataset, creating a random batch of size batch_size\n",
    "\n",
    "            if istraining:\n",
    "                im, steering = random_augment(\n",
    "                    image_paths[random_index], steering_ang[random_index]\n",
    "                )  # If training data, augment the image\n",
    "\n",
    "            else:\n",
    "                im = mpimg.imread(\n",
    "                    image_paths[random_index])  # If not, just load image\n",
    "                steering = steering_ang[random_index]\n",
    "\n",
    "            im = angle_preprocess(im)  # Pass image through pipeline\n",
    "            batch_img.append(im)\n",
    "            batch_steering.append(steering)\n",
    "        yield (np.asarray(batch_img), np.asarray(batch_steering)\n",
    "               )  # Returns generator/ lazy iterator\n",
    "\n",
    "\n",
    "def speed_batch_generator(image_paths, steering_ang, batch_size, istraining):\n",
    "\n",
    "    while True:\n",
    "        batch_img = []\n",
    "        batch_steering = []\n",
    "\n",
    "        for i in range(batch_size):\n",
    "            random_index = random.randint(\n",
    "                0,\n",
    "                len(image_paths) - 1\n",
    "            )  # Picks random image in the dataset, creating a random batch of size batch_size\n",
    "\n",
    "            if istraining:\n",
    "                im = mpimg.imread(image_paths[random_index])  # Add image to dataset\n",
    "                steering = steering_ang[random_index]\n",
    "\n",
    "                im, steering = random_augment(image_paths[random_index], steering_ang[random_index])\n",
    "\n",
    "                # Also augment the data and add to the dataset. Can loop here to increase dataset size\n",
    "                # for i in range(3):\n",
    "                #     im_aug, steering_aug = random_augment(image_paths[random_index], steering_ang[random_index])  \n",
    "                #     im_aug = speed_preprocess(im_aug)\n",
    "                #     batch_img.append(im_aug)\n",
    "                #     batch_steering.append(steering_aug)\n",
    "\n",
    "            else:\n",
    "                im = mpimg.imread(image_paths[random_index])  # If not, just load image\n",
    "                steering = steering_ang[random_index]\n",
    "\n",
    "            im = speed_preprocess(im)  # Pass image through pipeline\n",
    "            batch_img.append(im)\n",
    "            batch_steering.append(steering)\n",
    "        yield (np.asarray(batch_img), np.asarray(batch_steering))  # Returns generator/ lazy iterator\n",
    "\n",
    "\n",
    "def nvidia_model():\n",
    "\n",
    "    model = Sequential()\n",
    "\n",
    "    model.add(\n",
    "        Conv2D(24,\n",
    "               kernel_size=(5, 5),\n",
    "               strides=(2, 2),\n",
    "               input_shape=(66, 200, 3),\n",
    "               activation='elu'))\n",
    "    model.add(Conv2D(36, kernel_size=(5, 5), strides=(2, 2), activation='elu'))\n",
    "    model.add(Conv2D(48, kernel_size=(5, 5), strides=(2, 2), activation='elu'))\n",
    "    model.add(Conv2D(64, kernel_size=(3, 3), activation='elu'))\n",
    "    model.add(Conv2D(64, kernel_size=(3, 3), activation='elu'))\n",
    "    #model.add(Dropout(0.5))\n",
    "\n",
    "    model.add(Flatten())\n",
    "    model.add(Dense(100, activation='elu'))\n",
    "    #model.add(Dropout(0.5))\n",
    "\n",
    "    model.add(Dense(50, activation='elu'))\n",
    "    model.add(Dense(10, activation='elu'))\n",
    "    model.add(Dense(1))\n",
    "\n",
    "    optimizer = Adam(learning_rate=1e-4)\n",
    "    # model.compile(loss='mse', optimizer=optimizer)\n",
    "    model.compile(loss='binary_crossentropy', optimizer=optimizer)\n",
    "\n",
    "    return model\n"
   ]
  },
  {
   "cell_type": "code",
   "execution_count": 95,
   "metadata": {},
   "outputs": [],
   "source": [
    "datadir = \"cardata\"  # Define car data diretory\n",
    "columns = [\"image_id\", \"angle\", \"speed\"]\n",
    "\n",
    "# Read training data in from CSV\n",
    "data = pd.read_csv(os.path.join(datadir, \"training_norm3.csv\"))\n",
    "\n",
    "# Load angle/steering data\n",
    "image_paths, angles = load_img_steering(\n",
    "    datadir + \"/training_data/training_data\", data)\n",
    "\n",
    "# Generate training/test split\n",
    "X_train, X_valid, y_train, y_valid = train_test_split(image_paths,\n",
    "                                                      angles,\n",
    "                                                      test_size=0.2,\n",
    "                                                      random_state=3)\n"
   ]
  },
  {
   "cell_type": "code",
   "execution_count": null,
   "metadata": {},
   "outputs": [],
   "source": [
    "ncol = 4\n",
    "nrow = 10\n",
    "\n",
    "fig, axs = plt.subplots(nrow, ncol, figsize=(15, 50))\n",
    "fig.tight_layout()\n",
    "\n",
    "for i in range(10):\n",
    "  randnum = random.randint(0, len(image_paths) - 1)\n",
    "  random_image = image_paths[randnum]\n",
    "  random_steering = angles[randnum]\n",
    "\n",
    "  original_image = mpimg.imread(random_image)\n",
    "  augmented_image, steering = random_augment(random_image, random_steering)\n",
    "  angle_image = angle_preprocess(augmented_image)\n",
    "  speed_image = speed_preprocess(augmented_image)\n",
    "\n",
    "  axs[i][0].imshow(original_image)\n",
    "  axs[i][0].set_title(\"Original Image\")\n",
    "\n",
    "  axs[i][1].imshow(augmented_image)\n",
    "  axs[i][1].set_title(\"Augmented Image\")\n",
    "\n",
    "  axs[i][2].imshow(angle_image)\n",
    "  axs[i][2].set_title(\"Angle Filter\")\n",
    "\n",
    "  axs[i][3].imshow(speed_image)\n",
    "  axs[i][3].set_title(\"Speed Filter\")\n",
    "  print(speed_image.shape)"
   ]
  },
  {
   "cell_type": "code",
   "execution_count": 56,
   "metadata": {},
   "outputs": [
    {
     "name": "stdout",
     "output_type": "stream",
     "text": [
      "Epoch 1/10\n"
     ]
    },
    {
     "name": "stderr",
     "output_type": "stream",
     "text": [
      "2022-04-27 10:33:25.590230: I tensorflow/core/grappler/optimizers/custom_graph_optimizer_registry.cc:112] Plugin optimizer for device_type GPU is enabled.\n"
     ]
    },
    {
     "name": "stdout",
     "output_type": "stream",
     "text": [
      "300/300 [==============================] - ETA: 0s - loss: 0.3072"
     ]
    },
    {
     "name": "stderr",
     "output_type": "stream",
     "text": [
      "2022-04-27 10:34:53.603062: I tensorflow/core/grappler/optimizers/custom_graph_optimizer_registry.cc:112] Plugin optimizer for device_type GPU is enabled.\n"
     ]
    },
    {
     "name": "stdout",
     "output_type": "stream",
     "text": [
      "300/300 [==============================] - 128s 427ms/step - loss: 0.3072 - val_loss: 0.0428\n",
      "Epoch 2/10\n",
      "300/300 [==============================] - 128s 426ms/step - loss: 0.0377 - val_loss: 0.0250\n",
      "Epoch 3/10\n",
      "300/300 [==============================] - 127s 424ms/step - loss: 0.0237 - val_loss: 0.0188\n",
      "Epoch 4/10\n",
      "300/300 [==============================] - 126s 422ms/step - loss: 0.0192 - val_loss: 0.0155\n",
      "Epoch 5/10\n",
      "300/300 [==============================] - 127s 423ms/step - loss: 0.0170 - val_loss: 0.0139\n",
      "Epoch 6/10\n",
      "300/300 [==============================] - 126s 420ms/step - loss: 0.0153 - val_loss: 0.0126\n",
      "Epoch 7/10\n",
      "300/300 [==============================] - 127s 423ms/step - loss: 0.0134 - val_loss: 0.0118\n",
      "Epoch 8/10\n",
      "300/300 [==============================] - 126s 421ms/step - loss: 0.0132 - val_loss: 0.0111\n",
      "Epoch 9/10\n",
      "300/300 [==============================] - 152s 509ms/step - loss: 0.0130 - val_loss: 0.0110\n",
      "Epoch 10/10\n",
      "300/300 [==============================] - 128s 427ms/step - loss: 0.0118 - val_loss: 0.0107\n"
     ]
    }
   ],
   "source": [
    "# TRAIN ANGLE MODEL\n",
    "angle_model = nvidia_model()\n",
    "batch_size = 64\n",
    "steps_per_epoch = X_train.size/batch_size\n",
    "angle_history = angle_model.fit(angle_batch_generator(X_train, y_train, batch_size,\n",
    "                                                      1),\n",
    "                                steps_per_epoch=300,\n",
    "                                epochs=10,\n",
    "                                validation_data=angle_batch_generator(\n",
    "                                    X_valid, y_valid, batch_size, 0),\n",
    "                                validation_steps=200,\n",
    "                                verbose=1,\n",
    "                                shuffle=1)\n",
    "\n"
   ]
  },
  {
   "cell_type": "code",
   "execution_count": 57,
   "metadata": {},
   "outputs": [
    {
     "name": "stderr",
     "output_type": "stream",
     "text": [
      "2022-04-27 10:55:02.476209: I tensorflow/core/grappler/optimizers/custom_graph_optimizer_registry.cc:112] Plugin optimizer for device_type GPU is enabled.\n"
     ]
    },
    {
     "name": "stdout",
     "output_type": "stream",
     "text": [
      "0.011902423849727225\n"
     ]
    }
   ],
   "source": [
    "from sklearn.metrics import mean_squared_error, r2_score\n",
    "from keras.models import load_model\n",
    "# ANGLE PREDICTIONS BASED ON VALIDATION DATA\n",
    "\n",
    "x_validTest, y_validTest = next(\n",
    "    angle_batch_generator(X_valid, y_valid, 1000, 0))\n",
    "Y_pred = angle_model.predict(x_validTest)\n",
    "MSE_angle = mean_squared_error(y_validTest, Y_pred)\n",
    "print(MSE_angle)\n",
    "\n",
    "angle_model_name = \"angle_model_\" + \"{0:.5f}\".format(MSE_angle) + \".h5\"\n",
    "angle_models_path = os.path.join(\"models\", angle_model_name)\n",
    "angle_model.save(angle_models_path)"
   ]
  },
  {
   "cell_type": "code",
   "execution_count": 58,
   "metadata": {},
   "outputs": [
    {
     "data": {
      "image/png": "[encoded data removed]",
      "text/plain": [
       "<Figure size 432x288 with 1 Axes>"
      ]
     },
     "metadata": {
      "needs_background": "light"
     },
     "output_type": "display_data"
    }
   ],
   "source": [
    "plt.plot(angle_history.history['loss'])\n",
    "plt.plot(angle_history.history['val_loss'])\n",
    "plt.legend(['training', 'validation'])\n",
    "plt.title('Loss for Angle')\n",
    "plt.xlabel('Epoch')\n",
    "plt.savefig(os.path.join(\"figures\",\"angle_loss_\" + \"{0:.5f}\".format(MSE_angle) + \".png\"))"
   ]
  },
  {
   "cell_type": "code",
   "execution_count": 96,
   "metadata": {},
   "outputs": [
    {
     "name": "stdout",
     "output_type": "stream",
     "text": [
      "['cardata/training_data/training_data/1.png'\n",
      " 'cardata/training_data/training_data/2.png'\n",
      " 'cardata/training_data/training_data/3.png' ...\n",
      " 'cardata/training_data/training_data/13796.png'\n",
      " 'cardata/training_data/training_data/13797.png'\n",
      " 'cardata/training_data/training_data/13798.png']\n"
     ]
    }
   ],
   "source": [
    "# Load angle/steering data\n",
    "image_paths, speed = load_speed_img(datadir + \"/training_data/training_data\",\n",
    "                                     data)\n",
    "\n",
    "# Generate training/test split\n",
    "X_train, X_valid, y_train, y_valid = train_test_split(image_paths,\n",
    "                                                      speed,\n",
    "                                                      test_size=0.2,\n",
    "                                                      random_state=4)\n"
   ]
  },
  {
   "cell_type": "code",
   "execution_count": 136,
   "metadata": {},
   "outputs": [
    {
     "name": "stdout",
     "output_type": "stream",
     "text": [
      "WARNING:tensorflow:`input_shape` is undefined or non-square, or `rows` is not in [96, 128, 160, 192, 224]. Weights for input shape (224, 224) will be loaded as the default.\n",
      "  image_id   angle speed\n",
      "0    1.png  0.4375     0\n",
      "1    2.png  0.8125     1\n",
      "2    3.png  0.4375     1\n",
      "3    4.png  0.6250     1\n",
      "4    5.png  0.5000     0\n",
      "Found 8828 validated image filenames belonging to 2 classes.\n",
      "Found 551 validated image filenames belonging to 2 classes.\n"
     ]
    },
    {
     "name": "stderr",
     "output_type": "stream",
     "text": [
      "/Users/tomaldridge/miniforge3/envs/tf/lib/python3.9/site-packages/keras/engine/training.py:1972: UserWarning: `Model.fit_generator` is deprecated and will be removed in a future version. Please use `Model.fit`, which supports generators.\n",
      "  warnings.warn('`Model.fit_generator` is deprecated and '\n"
     ]
    },
    {
     "name": "stdout",
     "output_type": "stream",
     "text": [
      "Epoch 1/10\n"
     ]
    },
    {
     "name": "stderr",
     "output_type": "stream",
     "text": [
      "2022-04-29 23:33:33.923032: I tensorflow/core/grappler/optimizers/custom_graph_optimizer_registry.cc:112] Plugin optimizer for device_type GPU is enabled.\n"
     ]
    },
    {
     "name": "stdout",
     "output_type": "stream",
     "text": [
      "122/122 [==============================] - ETA: 0s - loss: 0.2093 - accuracy: 0.9171"
     ]
    },
    {
     "name": "stderr",
     "output_type": "stream",
     "text": [
      "2022-04-29 23:35:10.641784: I tensorflow/core/grappler/optimizers/custom_graph_optimizer_registry.cc:112] Plugin optimizer for device_type GPU is enabled.\n"
     ]
    },
    {
     "name": "stdout",
     "output_type": "stream",
     "text": [
      "122/122 [==============================] - 103s 798ms/step - loss: 0.2093 - accuracy: 0.9171 - val_loss: 0.5998 - val_accuracy: 0.8254\n",
      "Epoch 2/10\n",
      "122/122 [==============================] - 93s 754ms/step - loss: 0.0914 - accuracy: 0.9643 - val_loss: 0.4712 - val_accuracy: 0.8571\n",
      "Epoch 3/10\n",
      "122/122 [==============================] - 94s 770ms/step - loss: 0.0737 - accuracy: 0.9717 - val_loss: 0.5139 - val_accuracy: 0.8591\n",
      "Epoch 4/10\n",
      "122/122 [==============================] - 90s 731ms/step - loss: 0.0571 - accuracy: 0.9786 - val_loss: 0.4764 - val_accuracy: 0.8849\n",
      "Epoch 5/10\n",
      "122/122 [==============================] - 91s 744ms/step - loss: 0.0525 - accuracy: 0.9808 - val_loss: 0.3728 - val_accuracy: 0.9008\n",
      "Epoch 6/10\n",
      "122/122 [==============================] - 90s 735ms/step - loss: 0.0481 - accuracy: 0.9816 - val_loss: 0.2107 - val_accuracy: 0.9345\n",
      "Epoch 7/10\n",
      "122/122 [==============================] - 94s 764ms/step - loss: 0.0443 - accuracy: 0.9838 - val_loss: 0.1514 - val_accuracy: 0.9444\n",
      "Epoch 8/10\n",
      "122/122 [==============================] - 100s 816ms/step - loss: 0.0394 - accuracy: 0.9849 - val_loss: 0.1239 - val_accuracy: 0.9563\n",
      "Epoch 9/10\n",
      "122/122 [==============================] - 95s 771ms/step - loss: 0.0349 - accuracy: 0.9861 - val_loss: 0.1076 - val_accuracy: 0.9722\n",
      "Epoch 10/10\n",
      " 35/122 [=======>......................] - ETA: 1:03 - loss: 0.0323 - accuracy: 0.9885"
     ]
    }
   ],
   "source": [
    "# TRANSFER LEARNING ATTEMPT\n",
    "from keras.applications.mobilenet_v2 import MobileNetV2\n",
    "from keras.layers import GlobalAveragePooling2D\n",
    "from keras.applications.mobilenet import preprocess_input\n",
    "from keras.models import Model\n",
    "from keras.preprocessing.image import ImageDataGenerator\n",
    "from tensorflow.keras.losses import BinaryCrossentropy\n",
    "\n",
    "base_model = MobileNetV2(\n",
    "    weights='imagenet', include_top=False\n",
    ")  #imports the mobilenet model and discards the last 1000 neuron layer.\n",
    "\n",
    "x = base_model.output\n",
    "x = GlobalAveragePooling2D()(x)\n",
    "x = Dense(1024, activation='relu')(x)\n",
    "x = Dense(512, activation='relu')(x)\n",
    "preds = Dense(1, activation='sigmoid')(x)\n",
    "model = Model(inputs=base_model.input, outputs=preds)\n",
    "\n",
    "for layer in model.layers[:20]:\n",
    "    layer.trainable=False\n",
    "for layer in model.layers[20:]:\n",
    "    layer.trainable=True\n",
    "\n",
    "model.compile(optimizer=SGD(learning_rate = 0.01),\n",
    "              loss='binary_crossentropy',\n",
    "              metrics=['accuracy'])\n",
    "\n",
    "# datagen = ImageDataGenerator(featurewise_center=True,\n",
    "#                              featurewise_std_normalization=True,\n",
    "#                              rotation_range=20,\n",
    "#                              width_shift_range=0.2,\n",
    "#                              height_shift_range=0.2,\n",
    "#                              horizontal_flip=True,\n",
    "#                              validation_split=0.2)\n",
    "\n",
    "# tg = datagen.flow(np.asarray(X_train), y_train, 32, 1, subset='training')\n",
    "# vg = datagen.flow(np.asarray(X_valid), y_valid, 32, 1, subset='validation')\n",
    "\n",
    "# test = ImageDataGenerator(preprocessing_function=preprocess_input)\n",
    "# print(X_train)\n",
    "# test_gen = test.flow_from_directory(X_train,\n",
    "#                                     y_train,\n",
    "#                                     batch_size=32,\n",
    "#                                     color_mode='rgb')\n",
    "# valid_gen = test.flow(np.asarray(X_valid), y_valid, 32, 0)\n",
    "\n",
    "data = pd.read_csv(\"cardata/training_norm3.csv\")\n",
    "data['speed'] = data['speed'].astype(str)\n",
    "print(data.head())\n",
    "\n",
    "train_df, validate_df = train_test_split(data, test_size=0.20, random_state=42)\n",
    "# train_df = train_df.reset_index(drop=True)\n",
    "# validate_df = validate_df.reset_index(drop=True)\n",
    "batch_size = 72\n",
    "\n",
    "train_datagen = ImageDataGenerator(\n",
    "    rotation_range=15,\n",
    "    rescale=1./255,\n",
    "    shear_range=0.1,\n",
    "    zoom_range=0.2,\n",
    "    horizontal_flip=True,\n",
    "    width_shift_range=0.1,\n",
    "    height_shift_range=0.1,\n",
    "    validation_split=0.2\n",
    ")\n",
    "\n",
    "train_generator = train_datagen.flow_from_dataframe(\n",
    "    train_df, \n",
    "    \"cardata/training_data/training_data/\", \n",
    "    x_col='image_id',\n",
    "    y_col='speed',\n",
    "    target_size=(320,240),\n",
    "    class_mode='binary',\n",
    "    batch_size=batch_size,\n",
    "    subset='training'\n",
    ")\n",
    "\n",
    "valid_generator = train_datagen.flow_from_dataframe(\n",
    "    validate_df, \n",
    "    \"cardata/training_data/training_data/\", \n",
    "    x_col='image_id',\n",
    "    y_col='speed',\n",
    "    target_size=(320,240),\n",
    "    class_mode='binary',\n",
    "    batch_size=batch_size,\n",
    "    subset='validation'\n",
    ")\n",
    "\n",
    "\n",
    "speed_history = model.fit_generator(generator=train_generator,\n",
    "                                    steps_per_epoch=train_generator.samples // batch_size,\n",
    "                                    epochs=10,\n",
    "                                    validation_data=valid_generator,\n",
    "                                    validation_steps=valid_generator.samples // batch_size)\n",
    "\n",
    "x_validTest, y_validTest = next(\n",
    "    speed_batch_generator(X_valid, y_valid, 1000, 0))\n",
    "Y_pred = model.predict(x_validTest)\n",
    "bce = BinaryCrossentropy()\n",
    "print(str(bce(y_validTest, Y_pred).numpy()))\n",
    "speed_model_name = \"speed_model_\" + \"{0:.5f}\".str(bce(y_validTest, Y_pred).numpy()) + \".h5\"\n",
    "speed_models_path = os.path.join(\"models\", speed_model_name)\n",
    "model.save(speed_models_path)\n",
    "\n",
    "plt.plot(speed_history.history['loss'])\n",
    "plt.plot(speed_history.history['val_loss'])\n",
    "plt.legend(['training', 'validation'])\n",
    "plt.title('Loss for Speed')\n",
    "plt.xlabel('Epoch')\n",
    "plt.savefig(os.path.join(\"figures\",\"speed_loss_\" + \"{0:.5f}\".str(bce(y_validTest, Y_pred).numpy()) + \".png\"))\n"
   ]
  },
  {
   "cell_type": "code",
   "execution_count": 135,
   "metadata": {},
   "outputs": [
    {
     "name": "stdout",
     "output_type": "stream",
     "text": [
      "0.9253128\n"
     ]
    },
    {
     "name": "stderr",
     "output_type": "stream",
     "text": [
      "/Users/tomaldridge/miniforge3/envs/tf/lib/python3.9/site-packages/keras/utils/generic_utils.py:494: CustomMaskWarning: Custom mask layers require a config and must override get_config. When loading, the custom mask layer must be passed to the custom_objects argument.\n",
      "  warnings.warn('Custom mask layers require a config and must override '\n"
     ]
    }
   ],
   "source": [
    "from tensorflow.keras.losses import BinaryCrossentropy\n",
    "bce = BinaryCrossentropy()\n",
    "print(bce(y_validTest, Y_pred).numpy())\n",
    "model.save(\"models/speed_model_\" +str(bce(y_validTest, Y_pred).numpy())+\".h5\")"
   ]
  },
  {
   "cell_type": "code",
   "execution_count": 65,
   "metadata": {},
   "outputs": [
    {
     "name": "stdout",
     "output_type": "stream",
     "text": [
      "Epoch 1/12\n"
     ]
    },
    {
     "name": "stderr",
     "output_type": "stream",
     "text": [
      "2022-04-28 13:56:26.759950: I tensorflow/core/grappler/optimizers/custom_graph_optimizer_registry.cc:112] Plugin optimizer for device_type GPU is enabled.\n"
     ]
    },
    {
     "name": "stdout",
     "output_type": "stream",
     "text": [
      "300/300 [==============================] - ETA: 0s - loss: 0.6838"
     ]
    },
    {
     "name": "stderr",
     "output_type": "stream",
     "text": [
      "2022-04-28 14:02:30.791231: I tensorflow/core/grappler/optimizers/custom_graph_optimizer_registry.cc:112] Plugin optimizer for device_type GPU is enabled.\n"
     ]
    },
    {
     "name": "stdout",
     "output_type": "stream",
     "text": [
      "300/300 [==============================] - 464s 2s/step - loss: 0.6838 - val_loss: 0.6634\n",
      "Epoch 2/12\n",
      " 46/300 [===>..........................] - ETA: 5:04 - loss: 0.6532"
     ]
    },
    {
     "ename": "KeyboardInterrupt",
     "evalue": "",
     "output_type": "error",
     "traceback": [
      "\u001b[0;31m---------------------------------------------------------------------------\u001b[0m",
      "\u001b[0;31mKeyboardInterrupt\u001b[0m                         Traceback (most recent call last)",
      "\u001b[0;32m/var/folders/bn/qfvxtgcj39z5kcs_86kg57mr0000gn/T/ipykernel_59501/1140259546.py\u001b[0m in \u001b[0;36m<module>\u001b[0;34m\u001b[0m\n\u001b[1;32m     10\u001b[0m                                         restore_best_weights = True)\n\u001b[1;32m     11\u001b[0m \u001b[0;34m\u001b[0m\u001b[0m\n\u001b[0;32m---> 12\u001b[0;31m speed_history = speed_model.fit(speed_batch_generator(X_train, y_train, batch_size,\n\u001b[0m\u001b[1;32m     13\u001b[0m                                                       1),\n\u001b[1;32m     14\u001b[0m                                 \u001b[0msteps_per_epoch\u001b[0m\u001b[0;34m=\u001b[0m\u001b[0;36m300\u001b[0m\u001b[0;34m,\u001b[0m\u001b[0;34m\u001b[0m\u001b[0;34m\u001b[0m\u001b[0m\n",
      "\u001b[0;32m~/miniforge3/envs/tf/lib/python3.9/site-packages/keras/engine/training.py\u001b[0m in \u001b[0;36mfit\u001b[0;34m(self, x, y, batch_size, epochs, verbose, callbacks, validation_split, validation_data, shuffle, class_weight, sample_weight, initial_epoch, steps_per_epoch, validation_steps, validation_batch_size, validation_freq, max_queue_size, workers, use_multiprocessing)\u001b[0m\n\u001b[1;32m   1182\u001b[0m                 _r=1):\n\u001b[1;32m   1183\u001b[0m               \u001b[0mcallbacks\u001b[0m\u001b[0;34m.\u001b[0m\u001b[0mon_train_batch_begin\u001b[0m\u001b[0;34m(\u001b[0m\u001b[0mstep\u001b[0m\u001b[0;34m)\u001b[0m\u001b[0;34m\u001b[0m\u001b[0;34m\u001b[0m\u001b[0m\n\u001b[0;32m-> 1184\u001b[0;31m               \u001b[0mtmp_logs\u001b[0m \u001b[0;34m=\u001b[0m \u001b[0mself\u001b[0m\u001b[0;34m.\u001b[0m\u001b[0mtrain_function\u001b[0m\u001b[0;34m(\u001b[0m\u001b[0miterator\u001b[0m\u001b[0;34m)\u001b[0m\u001b[0;34m\u001b[0m\u001b[0;34m\u001b[0m\u001b[0m\n\u001b[0m\u001b[1;32m   1185\u001b[0m               \u001b[0;32mif\u001b[0m \u001b[0mdata_handler\u001b[0m\u001b[0;34m.\u001b[0m\u001b[0mshould_sync\u001b[0m\u001b[0;34m:\u001b[0m\u001b[0;34m\u001b[0m\u001b[0;34m\u001b[0m\u001b[0m\n\u001b[1;32m   1186\u001b[0m                 \u001b[0mcontext\u001b[0m\u001b[0;34m.\u001b[0m\u001b[0masync_wait\u001b[0m\u001b[0;34m(\u001b[0m\u001b[0;34m)\u001b[0m\u001b[0;34m\u001b[0m\u001b[0;34m\u001b[0m\u001b[0m\n",
      "\u001b[0;32m~/miniforge3/envs/tf/lib/python3.9/site-packages/tensorflow/python/eager/def_function.py\u001b[0m in \u001b[0;36m__call__\u001b[0;34m(self, *args, **kwds)\u001b[0m\n\u001b[1;32m    883\u001b[0m \u001b[0;34m\u001b[0m\u001b[0m\n\u001b[1;32m    884\u001b[0m       \u001b[0;32mwith\u001b[0m \u001b[0mOptionalXlaContext\u001b[0m\u001b[0;34m(\u001b[0m\u001b[0mself\u001b[0m\u001b[0;34m.\u001b[0m\u001b[0m_jit_compile\u001b[0m\u001b[0;34m)\u001b[0m\u001b[0;34m:\u001b[0m\u001b[0;34m\u001b[0m\u001b[0;34m\u001b[0m\u001b[0m\n\u001b[0;32m--> 885\u001b[0;31m         \u001b[0mresult\u001b[0m \u001b[0;34m=\u001b[0m \u001b[0mself\u001b[0m\u001b[0;34m.\u001b[0m\u001b[0m_call\u001b[0m\u001b[0;34m(\u001b[0m\u001b[0;34m*\u001b[0m\u001b[0margs\u001b[0m\u001b[0;34m,\u001b[0m \u001b[0;34m**\u001b[0m\u001b[0mkwds\u001b[0m\u001b[0;34m)\u001b[0m\u001b[0;34m\u001b[0m\u001b[0;34m\u001b[0m\u001b[0m\n\u001b[0m\u001b[1;32m    886\u001b[0m \u001b[0;34m\u001b[0m\u001b[0m\n\u001b[1;32m    887\u001b[0m       \u001b[0mnew_tracing_count\u001b[0m \u001b[0;34m=\u001b[0m \u001b[0mself\u001b[0m\u001b[0;34m.\u001b[0m\u001b[0mexperimental_get_tracing_count\u001b[0m\u001b[0;34m(\u001b[0m\u001b[0;34m)\u001b[0m\u001b[0;34m\u001b[0m\u001b[0;34m\u001b[0m\u001b[0m\n",
      "\u001b[0;32m~/miniforge3/envs/tf/lib/python3.9/site-packages/tensorflow/python/eager/def_function.py\u001b[0m in \u001b[0;36m_call\u001b[0;34m(self, *args, **kwds)\u001b[0m\n\u001b[1;32m    915\u001b[0m       \u001b[0;31m# In this case we have created variables on the first call, so we run the\u001b[0m\u001b[0;34m\u001b[0m\u001b[0;34m\u001b[0m\u001b[0m\n\u001b[1;32m    916\u001b[0m       \u001b[0;31m# defunned version which is guaranteed to never create variables.\u001b[0m\u001b[0;34m\u001b[0m\u001b[0;34m\u001b[0m\u001b[0m\n\u001b[0;32m--> 917\u001b[0;31m       \u001b[0;32mreturn\u001b[0m \u001b[0mself\u001b[0m\u001b[0;34m.\u001b[0m\u001b[0m_stateless_fn\u001b[0m\u001b[0;34m(\u001b[0m\u001b[0;34m*\u001b[0m\u001b[0margs\u001b[0m\u001b[0;34m,\u001b[0m \u001b[0;34m**\u001b[0m\u001b[0mkwds\u001b[0m\u001b[0;34m)\u001b[0m  \u001b[0;31m# pylint: disable=not-callable\u001b[0m\u001b[0;34m\u001b[0m\u001b[0;34m\u001b[0m\u001b[0m\n\u001b[0m\u001b[1;32m    918\u001b[0m     \u001b[0;32melif\u001b[0m \u001b[0mself\u001b[0m\u001b[0;34m.\u001b[0m\u001b[0m_stateful_fn\u001b[0m \u001b[0;32mis\u001b[0m \u001b[0;32mnot\u001b[0m \u001b[0;32mNone\u001b[0m\u001b[0;34m:\u001b[0m\u001b[0;34m\u001b[0m\u001b[0;34m\u001b[0m\u001b[0m\n\u001b[1;32m    919\u001b[0m       \u001b[0;31m# Release the lock early so that multiple threads can perform the call\u001b[0m\u001b[0;34m\u001b[0m\u001b[0;34m\u001b[0m\u001b[0m\n",
      "\u001b[0;32m~/miniforge3/envs/tf/lib/python3.9/site-packages/tensorflow/python/eager/function.py\u001b[0m in \u001b[0;36m__call__\u001b[0;34m(self, *args, **kwargs)\u001b[0m\n\u001b[1;32m   3037\u001b[0m       (graph_function,\n\u001b[1;32m   3038\u001b[0m        filtered_flat_args) = self._maybe_define_function(args, kwargs)\n\u001b[0;32m-> 3039\u001b[0;31m     return graph_function._call_flat(\n\u001b[0m\u001b[1;32m   3040\u001b[0m         filtered_flat_args, captured_inputs=graph_function.captured_inputs)  # pylint: disable=protected-access\n\u001b[1;32m   3041\u001b[0m \u001b[0;34m\u001b[0m\u001b[0m\n",
      "\u001b[0;32m~/miniforge3/envs/tf/lib/python3.9/site-packages/tensorflow/python/eager/function.py\u001b[0m in \u001b[0;36m_call_flat\u001b[0;34m(self, args, captured_inputs, cancellation_manager)\u001b[0m\n\u001b[1;32m   1961\u001b[0m         and executing_eagerly):\n\u001b[1;32m   1962\u001b[0m       \u001b[0;31m# No tape is watching; skip to running the function.\u001b[0m\u001b[0;34m\u001b[0m\u001b[0;34m\u001b[0m\u001b[0m\n\u001b[0;32m-> 1963\u001b[0;31m       return self._build_call_outputs(self._inference_function.call(\n\u001b[0m\u001b[1;32m   1964\u001b[0m           ctx, args, cancellation_manager=cancellation_manager))\n\u001b[1;32m   1965\u001b[0m     forward_backward = self._select_forward_and_backward_functions(\n",
      "\u001b[0;32m~/miniforge3/envs/tf/lib/python3.9/site-packages/tensorflow/python/eager/function.py\u001b[0m in \u001b[0;36mcall\u001b[0;34m(self, ctx, args, cancellation_manager)\u001b[0m\n\u001b[1;32m    589\u001b[0m       \u001b[0;32mwith\u001b[0m \u001b[0m_InterpolateFunctionError\u001b[0m\u001b[0;34m(\u001b[0m\u001b[0mself\u001b[0m\u001b[0;34m)\u001b[0m\u001b[0;34m:\u001b[0m\u001b[0;34m\u001b[0m\u001b[0;34m\u001b[0m\u001b[0m\n\u001b[1;32m    590\u001b[0m         \u001b[0;32mif\u001b[0m \u001b[0mcancellation_manager\u001b[0m \u001b[0;32mis\u001b[0m \u001b[0;32mNone\u001b[0m\u001b[0;34m:\u001b[0m\u001b[0;34m\u001b[0m\u001b[0;34m\u001b[0m\u001b[0m\n\u001b[0;32m--> 591\u001b[0;31m           outputs = execute.execute(\n\u001b[0m\u001b[1;32m    592\u001b[0m               \u001b[0mstr\u001b[0m\u001b[0;34m(\u001b[0m\u001b[0mself\u001b[0m\u001b[0;34m.\u001b[0m\u001b[0msignature\u001b[0m\u001b[0;34m.\u001b[0m\u001b[0mname\u001b[0m\u001b[0;34m)\u001b[0m\u001b[0;34m,\u001b[0m\u001b[0;34m\u001b[0m\u001b[0;34m\u001b[0m\u001b[0m\n\u001b[1;32m    593\u001b[0m               \u001b[0mnum_outputs\u001b[0m\u001b[0;34m=\u001b[0m\u001b[0mself\u001b[0m\u001b[0;34m.\u001b[0m\u001b[0m_num_outputs\u001b[0m\u001b[0;34m,\u001b[0m\u001b[0;34m\u001b[0m\u001b[0;34m\u001b[0m\u001b[0m\n",
      "\u001b[0;32m~/miniforge3/envs/tf/lib/python3.9/site-packages/tensorflow/python/eager/execute.py\u001b[0m in \u001b[0;36mquick_execute\u001b[0;34m(op_name, num_outputs, inputs, attrs, ctx, name)\u001b[0m\n\u001b[1;32m     57\u001b[0m   \u001b[0;32mtry\u001b[0m\u001b[0;34m:\u001b[0m\u001b[0;34m\u001b[0m\u001b[0;34m\u001b[0m\u001b[0m\n\u001b[1;32m     58\u001b[0m     \u001b[0mctx\u001b[0m\u001b[0;34m.\u001b[0m\u001b[0mensure_initialized\u001b[0m\u001b[0;34m(\u001b[0m\u001b[0;34m)\u001b[0m\u001b[0;34m\u001b[0m\u001b[0;34m\u001b[0m\u001b[0m\n\u001b[0;32m---> 59\u001b[0;31m     tensors = pywrap_tfe.TFE_Py_Execute(ctx._handle, device_name, op_name,\n\u001b[0m\u001b[1;32m     60\u001b[0m                                         inputs, attrs, num_outputs)\n\u001b[1;32m     61\u001b[0m   \u001b[0;32mexcept\u001b[0m \u001b[0mcore\u001b[0m\u001b[0;34m.\u001b[0m\u001b[0m_NotOkStatusException\u001b[0m \u001b[0;32mas\u001b[0m \u001b[0me\u001b[0m\u001b[0;34m:\u001b[0m\u001b[0;34m\u001b[0m\u001b[0;34m\u001b[0m\u001b[0m\n",
      "\u001b[0;31mKeyboardInterrupt\u001b[0m: "
     ]
    }
   ],
   "source": [
    "\n",
    "# TRAIN SPEED MODEL\n",
    "speed_model = nvidia_model()\n",
    "batch_size = 174\n",
    "steps_per_epoch = X_train.size/batch_size\n",
    "\n",
    "\n",
    "from keras import callbacks\n",
    "earlystopping = callbacks.EarlyStopping(monitor =\"val_loss\", \n",
    "                                        mode =\"min\", patience = 5, \n",
    "                                        restore_best_weights = True)\n",
    "\n",
    "speed_history = speed_model.fit(speed_batch_generator(X_train, y_train, batch_size,\n",
    "                                                      1),\n",
    "                                steps_per_epoch=300,\n",
    "                                epochs=12,\n",
    "                                validation_data=speed_batch_generator(\n",
    "                                    X_valid, y_valid, batch_size, 0),\n",
    "                                validation_steps=200,\n",
    "                                callbacks=earlystopping,\n",
    "                                verbose=1,\n",
    "                                shuffle=1)\n",
    "\n",
    "from sklearn.metrics import mean_squared_error, r2_score\n",
    "# ANGLE PREDICTIONS BASED ON VALIDATION DATA\n",
    "\n",
    "x_validTest, y_validTest = next(\n",
    "    speed_batch_generator(X_valid, y_valid, 1000, 0))\n",
    "Y_pred = speed_model.predict(x_validTest)\n",
    "MSE_speed = mean_squared_error(y_validTest, Y_pred)\n",
    "print(MSE_speed)\n",
    "\n",
    "speed_model_name = \"speed_model_\" + \"{0:.5f}\".format(MSE_speed) + \".h5\"\n",
    "speed_models_path = os.path.join(\"models\", speed_model_name)\n",
    "speed_model.save(speed_models_path)\n",
    "\n",
    "plt.plot(speed_history.history['loss'])\n",
    "plt.plot(speed_history.history['val_loss'])\n",
    "plt.legend(['training', 'validation'])\n",
    "plt.title('Loss for Speed')\n",
    "plt.xlabel('Epoch')\n",
    "plt.savefig(os.path.join(\"figures\",\"speed_loss_\" + \"{0:.5f}\".format(MSE_speed) + \".png\"))\n"
   ]
  }
 ],
 "metadata": {
  "interpreter": {
   "hash": "dbf4ff8a4851cdef5ad310b0693d3c5f1975d91208526f0ee562ffca9cac19bd"
  },
  "kernelspec": {
   "display_name": "Python 3.9.7 ('tf')",
   "language": "python",
   "name": "python3"
  },
  "language_info": {
   "codemirror_mode": {
    "name": "ipython",
    "version": 3
   },
   "file_extension": ".py",
   "mimetype": "text/x-python",
   "name": "python",
   "nbconvert_exporter": "python",
   "pygments_lexer": "ipython3",
   "version": "3.9.7"
  },
  "orig_nbformat": 4
 },
 "nbformat": 4,
 "nbformat_minor": 2
}
